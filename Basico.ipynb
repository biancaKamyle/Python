{
  "nbformat": 4,
  "nbformat_minor": 0,
  "metadata": {
    "colab": {
      "name": "Basico.ipynb",
      "provenance": [],
      "collapsed_sections": [],
      "toc_visible": true
    },
    "kernelspec": {
      "name": "python3",
      "display_name": "Python 3"
    },
    "language_info": {
      "name": "python"
    }
  },
  "cells": [
    {
      "cell_type": "markdown",
      "source": [
        "## **Explicabilidade**"
      ],
      "metadata": {
        "id": "pZahyQKk3Xfl"
      }
    },
    {
      "cell_type": "markdown",
      "source": [
        "Retorna o maior valor entre a e b\n"
      ],
      "metadata": {
        "id": "3EcuUK7w3eWF"
      }
    },
    {
      "cell_type": "code",
      "source": [
        "def maior(num1,num2):\n",
        "    if num1 > num2:\n",
        "        return  num1;\n",
        "    else:\n",
        "        return  num2;\n",
        "\n",
        "\n",
        "num1 = input(\"Digite um numero:\");\n",
        "num2 = input(\"Digite outro numero:\");\n",
        "print(\"Maior Numero:\", maior(num1,num2))\n"
      ],
      "metadata": {
        "colab": {
          "base_uri": "https://localhost:8080/"
        },
        "id": "vfvkG57A3n1I",
        "outputId": "afa25576-08dd-4a50-c11a-2a6ea0dd547f"
      },
      "execution_count": null,
      "outputs": [
        {
          "output_type": "stream",
          "name": "stdout",
          "text": [
            "Digite um numero:88\n",
            "Digite outro numero:74\n",
            "Maior Numero: 88\n"
          ]
        }
      ]
    },
    {
      "cell_type": "markdown",
      "source": [
        "Retorna o somatório dos valores passados pela lista"
      ],
      "metadata": {
        "id": "UUKarwxp3y1R"
      }
    },
    {
      "cell_type": "code",
      "source": [
        "def soma(listinha):\n",
        "  resultadoSoma = 0\n",
        "  for numLista in listinha:\n",
        "      resultadoSoma =(resultadoSoma + numLista)\n",
        "  return resultadoSoma\n",
        "cont = int(input(\"qual o tamanho da sua lista?\"))\n",
        "lista = []\n",
        "i = 1\n",
        "while (cont >= i) :\n",
        "  n = int(input(\"Qual o valor do próximo item da lista? \", ))\n",
        "  lista.append(n)\n",
        "  i = i+1\n",
        "\n",
        "print(lista)\n",
        "print(\"A soma de todos os item da sua lista é: \", soma(lista))\n",
        "\n"
      ],
      "metadata": {
        "colab": {
          "base_uri": "https://localhost:8080/"
        },
        "id": "3M9UFsXY30AN",
        "outputId": "704b1dbf-d3e9-4494-a3d3-6e7415359f4b"
      },
      "execution_count": 35,
      "outputs": [
        {
          "output_type": "stream",
          "name": "stdout",
          "text": [
            "qual o tamanho da sua lista?5\n",
            "Qual o valor do próximo item da lista? 3\n",
            "Qual o valor do próximo item da lista? 8\n",
            "Qual o valor do próximo item da lista? 5\n",
            "Qual o valor do próximo item da lista? 3\n",
            "Qual o valor do próximo item da lista? 9\n",
            "[3, 8, 5, 3, 9]\n",
            "A soma de todos os item da sua lista é:  28\n"
          ]
        }
      ]
    },
    {
      "cell_type": "markdown",
      "source": [
        "Retorna a média dos valores passados pela lista"
      ],
      "metadata": {
        "id": "w-QXR2elMHtU"
      }
    },
    {
      "cell_type": "code",
      "source": [
        "def media(listinha):\n",
        "  resultadoSoma = 0 \n",
        "  quant = len(listinha)\n",
        "  for numLista in listinha:\n",
        "      resultadoSoma =(resultadoSoma + numLista)\n",
        "  return resultadoSoma / quant\n",
        "cont = int(input(\"qual o tamanho da sua lista?\"))\n",
        "lista = []\n",
        "i = 1\n",
        "while (cont >= i) :\n",
        "  n = int(input(\"Qual o valor do próximo item da lista? \", ))\n",
        "  lista.append(n)\n",
        "  i = i+1\n",
        "\n",
        "print(lista)\n",
        "print(\"A soma de todos os item da sua lista é: \", media(lista))\n"
      ],
      "metadata": {
        "colab": {
          "base_uri": "https://localhost:8080/"
        },
        "id": "R9BZoOn-MRSq",
        "outputId": "572b7dca-6ff2-4e75-bacf-54c430e2ab62"
      },
      "execution_count": 37,
      "outputs": [
        {
          "output_type": "stream",
          "name": "stdout",
          "text": [
            "qual o tamanho da sua lista?5\n",
            "Qual o valor do próximo item da lista? 3\n",
            "Qual o valor do próximo item da lista? 8\n",
            "Qual o valor do próximo item da lista? 5\n",
            "Qual o valor do próximo item da lista? 3\n",
            "Qual o valor do próximo item da lista? 9\n",
            "[3, 8, 5, 3, 9]\n",
            "A soma de todos os item da sua lista é:  5.6\n"
          ]
        }
      ]
    },
    {
      "cell_type": "markdown",
      "source": [
        " Retorna uma lista contendo os valores iguais entre as duas listas passadas como parâmetro"
      ],
      "metadata": {
        "id": "TfXFH_PiNnVk"
      }
    },
    {
      "cell_type": "code",
      "source": [
        "def valores_iguais(lasta1, lista2):\n",
        "  listaResultante = []\n",
        "  iguais = [elemento for elemento in lista1 if elemento in lista2]\n",
        "  return(iguais)\n",
        "  #for numLista1 in lista1:\n",
        "   # for numLista2 in lista2:\n",
        "    #  if numLista2 == numlista1:\n",
        "     #   listaResultante. append(numLista2)\n",
        "      #return listaResultante\n",
        "  if listaResultante == []:\n",
        "      return \"Nenhum elemento é igual\"\n",
        "\n",
        "\n",
        "cont1 = int(input(\"qual o tamanho da sua primeira lista?\" ))\n",
        "lista1 = []\n",
        "i = 1\n",
        "while (cont1 >= i) :\n",
        "  n = int(input(\"Qual o valor do próximo item da lista um? \", ))\n",
        "  lista1.append(n)\n",
        "  i = i+1\n",
        "cont2 = int(input(\"qual o tamanho da sua segunda lista?\" ))\n",
        "lista2 = []\n",
        "i = 1\n",
        "while (cont2 >= i) :\n",
        "  n2 = int(input(\"Qual o valor do próximo item da lista dois? \", ))\n",
        "  lista2.append(n2)\n",
        "  i = i+1\n",
        "\n",
        "print(lista1)\n",
        "print(lista2)\n",
        "print(\"os numeros iguais são: \", valores_iguais(lista1, lista2))\n"
      ],
      "metadata": {
        "colab": {
          "base_uri": "https://localhost:8080/"
        },
        "id": "MsmPTpawN2bh",
        "outputId": "88ebcfde-e7d6-4efc-adba-2c3b9334eadd"
      },
      "execution_count": 45,
      "outputs": [
        {
          "output_type": "stream",
          "name": "stdout",
          "text": [
            "qual o tamanho da sua primeira lista?3\n",
            "Qual o valor do próximo item da lista um? 3\n",
            "Qual o valor do próximo item da lista um? 5\n",
            "Qual o valor do próximo item da lista um? 7\n",
            "qual o tamanho da sua segunda lista?2\n",
            "Qual o valor do próximo item da lista dois? 5\n",
            "Qual o valor do próximo item da lista dois? 9\n",
            "[3, 5, 7]\n",
            "[5, 9]\n",
            "os numeros iguais são:  [5]\n"
          ]
        }
      ]
    },
    {
      "cell_type": "markdown",
      "source": [
        "Retorna a posição na lista1 do primeiro valor igual ao da lista2. Caso não exista, é retornado None"
      ],
      "metadata": {
        "id": "uqRHpL5jVkG_"
      }
    },
    {
      "cell_type": "code",
      "source": [
        ""
      ],
      "metadata": {
        "id": "O5_JBYeSVn_n"
      },
      "execution_count": null,
      "outputs": []
    },
    {
      "cell_type": "code",
      "source": [
        "def valores_iguais(lasta1, lista2):\n",
        "  iguais = [elemento for elemento in lista1 if elemento in lista2]\n",
        "  return(iguais[0])\n",
        "  if iguais == []:\n",
        "    return \"NONE\"\n",
        "\n",
        "  #for numLista1 in lista1:\n",
        "   # for numLista2 in lista2:\n",
        "    #  if numLista2 == numlista1:\n",
        "     #   listaResultante. append(numLista2)\n",
        "      #return listaResultante\n",
        "  \n",
        "      \n",
        "\n",
        "\n",
        "cont1 = int(input(\"qual o tamanho da sua primeira lista?\" ))\n",
        "lista1 = []\n",
        "i = 1\n",
        "while (cont1 >= i) :\n",
        "  n = int(input(\"Qual o valor do próximo item da lista um? \", ))\n",
        "  lista1.append(n)\n",
        "  i = i+1\n",
        "cont2 = int(input(\"qual o tamanho da sua segunda lista?\" ))\n",
        "lista2 = []\n",
        "i = 1\n",
        "while (cont2 >= i) :\n",
        "  n2 = int(input(\"Qual o valor do próximo item da lista dois? \", ))\n",
        "  lista2.append(n2)\n",
        "  i = i+1\n",
        "\n",
        "print(lista1)\n",
        "print(lista2)\n",
        "print(\"o numero iguais é: \", valores_iguais(lista1, lista2))\n"
      ],
      "metadata": {
        "colab": {
          "base_uri": "https://localhost:8080/"
        },
        "outputId": "5e49ed4d-5920-4bc6-e4db-57f881ed7b42",
        "id": "8H9yKuJmWXvs"
      },
      "execution_count": 53,
      "outputs": [
        {
          "output_type": "stream",
          "name": "stdout",
          "text": [
            "qual o tamanho da sua primeira lista?3\n",
            "Qual o valor do próximo item da lista um? 1\n",
            "Qual o valor do próximo item da lista um? 2\n",
            "Qual o valor do próximo item da lista um? 3\n",
            "qual o tamanho da sua segunda lista?3\n",
            "Qual o valor do próximo item da lista dois? 1\n",
            "Qual o valor do próximo item da lista dois? 2\n",
            "Qual o valor do próximo item da lista dois? 3\n",
            "[1, 2, 3]\n",
            "[1, 2, 3]\n",
            "o numero iguais é:  1\n"
          ]
        }
      ]
    },
    {
      "cell_type": "code",
      "source": [
        ""
      ],
      "metadata": {
        "id": "tsdbQZscq_HD"
      },
      "execution_count": null,
      "outputs": []
    }
  ]
}